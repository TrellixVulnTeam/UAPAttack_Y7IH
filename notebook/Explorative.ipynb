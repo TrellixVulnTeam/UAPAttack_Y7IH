{
 "cells": [
  {
   "cell_type": "code",
   "execution_count": 409,
   "id": "b4e94cbd",
   "metadata": {},
   "outputs": [],
   "source": [
    "import os\n",
    "import sys\n",
    "import yaml \n",
    "from collections import defaultdict\n",
    "import pickle as pkl\n",
    "sys.path.append('/home/songzhu/UAPAttack/')\n",
    "os.chdir('/home/songzhu/UAPAttack')\n",
    "\n",
    "import torch\n",
    "import torchvision.transforms.functional as VF\n",
    "\n",
    "from data.data_builder import DATA_BUILDER\n",
    "from networks import NETWORK_BUILDER\n",
    "from utils import DENORMALIZER\n",
    "\n",
    "root = \"/home/songzhu/UAPAttack\"\n",
    "trigger = pkl.load(open('/scr/songzhu/trojai/uapattack/triggers/cifar10_resnet18_ulp_source0_seed77.pkl', 'rb'))"
   ]
  },
  {
   "cell_type": "code",
   "execution_count": 410,
   "id": "1b15b860",
   "metadata": {},
   "outputs": [
    {
     "name": "stdout",
     "output_type": "stream",
     "text": [
      "Files already downloaded and verified\n",
      "Files already downloaded and verified\n"
     ]
    }
   ],
   "source": [
    "with open(os.path.join(root, 'experiment_configuration.yml')) as f:\n",
    "    config = yaml.safe_load(f)\n",
    "f.close()\n",
    "config['args'] = defaultdict(str)\n",
    "config['args']['dataset'] = 'cifar10'\n",
    "config['args']['network'] = 'resnet18'\n",
    "config['args']['method']  = 'badnet'\n",
    "config['network']['PRETRAINED'] = True\n",
    "config['train']['DISTRIBUTED']  =False\n",
    "\n",
    "denormalizer = DENORMALIZER(\n",
    "    mean = (0.4914, 0.4822, 0.4465), \n",
    "    std  = (0.2023, 0.1994, 0.2010), \n",
    "    config = config\n",
    ")\n",
    "\n",
    "# Build dataset\n",
    "dataset = DATA_BUILDER(config=config)\n",
    "dataset.build_dataset()\n",
    "\n",
    "testloader = torch.utils.data.DataLoader(dataset.testset, batch_size=124, shuffle=False)\n",
    "\n",
    "# Build network\n",
    "model = NETWORK_BUILDER(config=config)\n",
    "model.build_network()\n",
    "model.model = model.model.cuda()"
   ]
  },
  {
   "cell_type": "code",
   "execution_count": 429,
   "id": "9dbe457d",
   "metadata": {},
   "outputs": [],
   "source": [
    "total = 0\n",
    "correct = 0\n",
    "\n",
    "trigger[0] = trigger[0].cuda()\n",
    "\n",
    "trigger_random = torch.randn(trigger[0].shape).cuda()\n",
    "trigger_random = trigger_random/torch.norm(trigger_random, p=2)*9\n",
    "\n",
    "model.model.eval()\n",
    "for _, (ind, img, _, _) in enumerate(testloader):\n",
    "    \n",
    "    img = img.cuda()\n",
    "    labels = dataset.testset.labels_c[ind]\n",
    "\n",
    "    img_troj = VF.normalize(torch.clamp(0.5*img + 0.5*5*trigger[0].permute(0, 3, 1, 2), 0, 1), \n",
    "                            mean = (0.4914, 0.4822, 0.4465), \n",
    "                            std  = (0.2023, 0.1994, 0.2010))\n",
    "\n",
    "    correct += (model.model(img_troj).argmax(1).eq(1).sum())\n",
    "    total += len(img)"
   ]
  },
  {
   "cell_type": "code",
   "execution_count": 430,
   "id": "6d03520b",
   "metadata": {},
   "outputs": [
    {
     "data": {
      "text/plain": [
       "tensor(8789, device='cuda:0')"
      ]
     },
     "execution_count": 430,
     "metadata": {},
     "output_type": "execute_result"
    }
   ],
   "source": [
    "correct"
   ]
  },
  {
   "cell_type": "code",
   "execution_count": 431,
   "id": "f4c87ba4",
   "metadata": {},
   "outputs": [
    {
     "name": "stderr",
     "output_type": "stream",
     "text": [
      "Clipping input data to the valid range for imshow with RGB data ([0..1] for floats or [0..255] for integers).\n"
     ]
    },
    {
     "data": {
      "text/plain": [
       "<matplotlib.image.AxesImage at 0x7f5bf0b9e190>"
      ]
     },
     "execution_count": 431,
     "metadata": {},
     "output_type": "execute_result"
    },
    {
     "data": {
      "image/png": "[encoded data removed]",
      "text/plain": [
       "<Figure size 432x288 with 1 Axes>"
      ]
     },
     "metadata": {
      "needs_background": "light"
     },
     "output_type": "display_data"
    }
   ],
   "source": [
    "import matplotlib.pyplot as plt\n",
    "%matplotlib inline\n",
    "\n",
    "plt.imshow(denormalizer(img_troj).detach().cpu()[3].squeeze().permute(1,2,0).numpy())"
   ]
  }
 ],
 "metadata": {
  "kernelspec": {
   "display_name": "Python [conda env:TopoDetect] *",
   "language": "python",
   "name": "conda-env-TopoDetect-py"
  },
  "language_info": {
   "codemirror_mode": {
    "name": "ipython",
    "version": 3
   },
   "file_extension": ".py",
   "mimetype": "text/x-python",
   "name": "python",
   "nbconvert_exporter": "python",
   "pygments_lexer": "ipython3",
   "version": "3.8.5"
  }
 },
 "nbformat": 4,
 "nbformat_minor": 5
}
