{
 "cells": [
  {
   "cell_type": "code",
   "execution_count": null,
   "id": "64f92045",
   "metadata": {},
   "outputs": [],
   "source": [
    "import os\n",
    "import re\n",
    "from collections import defaultdict\n",
    "from itertools import product\n",
    "import pickle as pkl\n",
    "\n",
    "import torch\n",
    "import pandas as pd\n",
    "import tensorboard as tb\n",
    "from tensorflow.python.summary.summary_iterator import summary_iterator\n",
    "\n",
    "network_list = ['resnet18', 'vgg16', 'densenet121']\n",
    "dataset_list = ['cifar10', 'gtsrb', 'imagenet']\n",
    "method_list  = ['badnet', 'sig', 'ref', 'warp', 'imc', 'uap', 'ulp']\n",
    "\n",
    "logdir = \"/scr/songzhu/trojai/uapattack/result\"\n",
    "logs = os.listdir(logdir)"
   ]
  },
  {
   "cell_type": "code",
   "execution_count": null,
   "id": "b7a2cbd5",
   "metadata": {},
   "outputs": [],
   "source": [
    "res_dict = defaultdict(list)\n",
    "\n",
    "for combo in product(method_list, dataset_list, network_list):\n",
    "    \n",
    "    method, dataset, network = combo\n",
    "    logfiles = list(filter(re.compile(f'({method}_{dataset}_{network})+.*').match, logs))\n",
    "    \n",
    "    for logfile in logfiles:\n",
    "        \n",
    "        with open(os.path.join(logdir, logfile), 'rb') as f:\n",
    "            config = pkl.load(f)\n",
    "            result = pkl.load(f)\n",
    "        f.close()\n",
    "        \n",
    "        print(config.keys())\n",
    "        \n",
    "    "
   ]
  },
  {
   "cell_type": "code",
   "execution_count": 167,
   "id": "68ecff23",
   "metadata": {},
   "outputs": [
    {
     "data": {
      "text/plain": [
       "'d_i_u+.*'"
      ]
     },
     "execution_count": 167,
     "metadata": {},
     "output_type": "execute_result"
    }
   ],
   "source": [
    "f'{method}_{dataset}_{network}+.*'"
   ]
  },
  {
   "cell_type": "code",
   "execution_count": 165,
   "id": "f789eba9",
   "metadata": {},
   "outputs": [
    {
     "data": {
      "text/plain": [
       "['warp_cifar10_vgg16_220812230229.pkl',\n",
       " 'sig_cifar10_resnet18_220812193642.pkl',\n",
       " 'warp_cifar10_resnet18_220812191052.pkl',\n",
       " 'badnet_cifar10_resnet18_220812145824.pkl',\n",
       " 'sig_cifar10_vgg16_220812220322.pkl',\n",
       " 'ref_cifar10_resnet18_220812233134.pkl',\n",
       " 'badnet_cifar10_resnet18_220812193729.pkl',\n",
       " 'badnet_cifar10_vgg16_220812220328.pkl']"
      ]
     },
     "execution_count": 165,
     "metadata": {},
     "output_type": "execute_result"
    }
   ],
   "source": [
    "logs"
   ]
  }
 ],
 "metadata": {
  "kernelspec": {
   "display_name": "Python [conda env:TopoDetect] *",
   "language": "python",
   "name": "conda-env-TopoDetect-py"
  },
  "language_info": {
   "codemirror_mode": {
    "name": "ipython",
    "version": 3
   },
   "file_extension": ".py",
   "mimetype": "text/x-python",
   "name": "python",
   "nbconvert_exporter": "python",
   "pygments_lexer": "ipython3",
   "version": "3.8.5"
  }
 },
 "nbformat": 4,
 "nbformat_minor": 5
}
