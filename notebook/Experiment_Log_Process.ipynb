{
 "cells": [
  {
   "cell_type": "code",
   "execution_count": 74,
   "id": "64f92045",
   "metadata": {},
   "outputs": [
    {
     "data": {
      "text/plain": [
       "['events.out.tfevents.1657392036.topox.130569.8']"
      ]
     },
     "execution_count": 74,
     "metadata": {},
     "output_type": "execute_result"
    }
   ],
   "source": [
    "import os\n",
    "from collections import defaultdict\n",
    "\n",
    "import pandas as pd\n",
    "import tensorboard as tb\n",
    "from tensorflow.python.summary.summary_iterator import summary_iterator\n",
    "\n",
    "os.listdir(\"../log/resnet18_cifar10_warp_False_False_220709113949_Troj_Acc_test\")"
   ]
  },
  {
   "cell_type": "code",
   "execution_count": 104,
   "id": "6deb1dd9",
   "metadata": {},
   "outputs": [
    {
     "name": "stdout",
     "output_type": "stream",
     "text": [
      "<class 'tensorflow.core.util.event_pb2.Event'>\n",
      "<class 'tensorflow.core.util.event_pb2.Event'>\n",
      "<class 'tensorflow.core.util.event_pb2.Event'>\n",
      "<class 'tensorflow.core.util.event_pb2.Event'>\n"
     ]
    }
   ],
   "source": [
    "summary_iter = summary_iterator(\"../log/resnet18_cifar10_warp_False_False_220709113949_Troj_Acc_test/events.out.tfevents.1657392036.topox.130569.8\")\n",
    "\n",
    "count = 0\n",
    "for item in iter(summary_iter):\n",
    "    \n",
    "    print(type(item))\n",
    "    \n",
    "    if count >= 3:\n",
    "        break\n",
    "        \n",
    "    count +=1"
   ]
  },
  {
   "cell_type": "code",
   "execution_count": 107,
   "id": "18291df7",
   "metadata": {},
   "outputs": [
    {
     "data": {
      "text/plain": [
       "0.9725034236907959"
      ]
     },
     "execution_count": 107,
     "metadata": {},
     "output_type": "execute_result"
    }
   ],
   "source": [
    "item.summary.value[0].simple_value"
   ]
  },
  {
   "cell_type": "code",
   "execution_count": 106,
   "id": "e166c304",
   "metadata": {},
   "outputs": [
    {
     "data": {
      "text/plain": [
       "0.9725034236907959"
      ]
     },
     "execution_count": 106,
     "metadata": {},
     "output_type": "execute_result"
    }
   ],
   "source": [
    "temp.simple_value"
   ]
  }
 ],
 "metadata": {
  "kernelspec": {
   "display_name": "Python [conda env:TopoDetect] *",
   "language": "python",
   "name": "conda-env-TopoDetect-py"
  },
  "language_info": {
   "codemirror_mode": {
    "name": "ipython",
    "version": 3
   },
   "file_extension": ".py",
   "mimetype": "text/x-python",
   "name": "python",
   "nbconvert_exporter": "python",
   "pygments_lexer": "ipython3",
   "version": "3.8.5"
  }
 },
 "nbformat": 4,
 "nbformat_minor": 5
}
